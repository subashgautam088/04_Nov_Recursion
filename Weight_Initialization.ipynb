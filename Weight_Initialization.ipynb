{
  "nbformat": 4,
  "nbformat_minor": 0,
  "metadata": {
    "colab": {
      "provenance": [],
      "authorship_tag": "ABX9TyMibvt0/46KNEAwSXBCCs92",
      "include_colab_link": true
    },
    "kernelspec": {
      "name": "python3",
      "display_name": "Python 3"
    },
    "language_info": {
      "name": "python"
    }
  },
  "cells": [
    {
      "cell_type": "markdown",
      "metadata": {
        "id": "view-in-github",
        "colab_type": "text"
      },
      "source": [
        "<a href=\"https://colab.research.google.com/github/subashgautam088/04_Nov_Recursion/blob/main/Weight_Initialization.ipynb\" target=\"_parent\"><img src=\"https://colab.research.google.com/assets/colab-badge.svg\" alt=\"Open In Colab\"/></a>"
      ]
    },
    {
      "cell_type": "markdown",
      "source": [
        "#### 7. Implement He initialization in Python using TensorFlow or PyTorch."
      ],
      "metadata": {
        "id": "mapurqcnCiSv"
      }
    },
    {
      "cell_type": "code",
      "execution_count": 1,
      "metadata": {
        "colab": {
          "base_uri": "https://localhost:8080/"
        },
        "id": "AuNlIEeBim_i",
        "outputId": "2cd98a1c-1a14-4753-e0d8-fa774fac9b75"
      },
      "outputs": [
        {
          "output_type": "stream",
          "name": "stdout",
          "text": [
            "Initialized weights (TensorFlow):\n",
            " [[ 0.17570335  0.05214751 -0.12149502 ... -0.04303507 -0.09036763\n",
            "  -0.06985345]\n",
            " [ 0.02196719  0.24762183  0.20619085 ... -0.23122545 -0.05399948\n",
            "  -0.01829213]\n",
            " [-0.04302881 -0.06261114 -0.00827322 ... -0.14852324  0.1208043\n",
            "   0.1558889 ]\n",
            " ...\n",
            " [ 0.05657319 -0.0716022   0.05720592 ... -0.06464805 -0.05413309\n",
            "   0.09915144]\n",
            " [ 0.12590669 -0.2457948  -0.02863488 ...  0.19495395  0.15375182\n",
            "   0.1468811 ]\n",
            " [-0.04250816 -0.03060457  0.05018597 ...  0.15522379  0.15107973\n",
            "   0.05933139]]\n"
          ]
        }
      ],
      "source": [
        "import tensorflow as tf\n",
        "\n",
        "def he_initialization(shape):\n",
        "    \"\"\"\n",
        "    Function to initialize weights using He initialization.\n",
        "    Args:\n",
        "        shape (tuple): Shape of the weight tensor.\n",
        "    Returns:\n",
        "        tf.Tensor: Tensor initialized with He initialization.\n",
        "    \"\"\"\n",
        "    initializer = tf.keras.initializers.HeNormal()\n",
        "    weights = initializer(shape)\n",
        "    return weights\n",
        "\n",
        "# Example usage\n",
        "input_dim = 128\n",
        "output_dim = 64\n",
        "weights = he_initialization((input_dim, output_dim))\n",
        "print(\"Initialized weights (TensorFlow):\\n\", weights.numpy())\n"
      ]
    },
    {
      "cell_type": "code",
      "source": [
        "weights.shape"
      ],
      "metadata": {
        "colab": {
          "base_uri": "https://localhost:8080/"
        },
        "id": "lE3pPbeFCwqv",
        "outputId": "3d294efb-f561-4159-b718-8e9649f13dba"
      },
      "execution_count": 2,
      "outputs": [
        {
          "output_type": "execute_result",
          "data": {
            "text/plain": [
              "TensorShape([128, 64])"
            ]
          },
          "metadata": {},
          "execution_count": 2
        }
      ]
    },
    {
      "cell_type": "code",
      "source": [],
      "metadata": {
        "id": "h18fcuSUC79Y"
      },
      "execution_count": null,
      "outputs": []
    }
  ]
}