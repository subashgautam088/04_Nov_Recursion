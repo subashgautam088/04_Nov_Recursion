{
 "cells": [
  {
   "cell_type": "code",
   "execution_count": 1,
   "id": "a812e3c6-d37b-4152-9d83-62a20666f5d6",
   "metadata": {},
   "outputs": [
    {
     "name": "stdout",
     "output_type": "stream",
     "text": [
      "Move disk 1 from rod A to rod C\n",
      "Move disk 2 from rod A to rod B\n",
      "Move disk 1 from rod C to rod B\n",
      "Move disk 3 from rod A to rod C\n",
      "Move disk 1 from rod B to rod A\n",
      "Move disk 2 from rod B to rod C\n",
      "Move disk 1 from rod A to rod C\n"
     ]
    }
   ],
   "source": [
    "##  1 Can you explain the logic and working of the Tower of Hanoi algorithm by writing a Java program? \n",
    "\n",
    "# How does the recursion work, and how are the movements of disks between rods accomplished\n",
    "# Only one disk can be moved at a time.\n",
    "# Each move consists of taking the upper disk from one of the stacks and placing it on top of another stack or on an empty rod.\n",
    "# No disk may be placed on top of a smaller disk.\n",
    "# The problem can be solved using a recursive algorithm. Here's a Python implementation:\n",
    "\n",
    "def tower_of_hanoi(n, source_rod, destination_rod, intermediate_rod ):\n",
    "  if n==1:\n",
    "    print(\"Move disk 1 from rod\", source_rod, \"to rod\", destination_rod)\n",
    "    return\n",
    "\n",
    "  tower_of_hanoi(n-1, source_rod, intermediate_rod, destination_rod)\n",
    "  print(\"Move disk\", n, \"from rod\", source_rod, \"to rod\", destination_rod)\n",
    "  tower_of_hanoi(n-1, intermediate_rod, destination_rod, source_rod)\n",
    "\n",
    "# Here's an example usage:\n",
    "tower_of_hanoi(3, 'A', 'C', 'B')\n",
    "\n",
    "# The recursion work as foloows as :-\n",
    "# The base case is when there is only one disk (n == 1). In this case, the program directly moves the disk from the source rod to the target rod.\n",
    "\n",
    "#For the general case (n > 1), the function makes two recursive calls:\n",
    "#The first recursive call moves the top n-1 disks from the source rod to the intermediate rod, using the target rod as the intermediate.\n",
    "#The second recursive call then moves the remaining disk from the source rod to the target rod.\n",
    "#Finally, another recursive call moves the n-1 disks from the intermediate rod to the target rod, using the source rod as the intermediate ."
   ]
  },
  {
   "cell_type": "code",
   "execution_count": 2,
   "id": "facbc645-bca4-453e-a3c7-6e1dc5283a33",
   "metadata": {},
   "outputs": [
    {
     "name": "stdout",
     "output_type": "stream",
     "text": [
      "Minimum number of operations: 2\n"
     ]
    }
   ],
   "source": [
    "##  2  Given two strings word1 and word2, return the minimum number of operations required to convert word1 to word2\n",
    "def min_distance(word1, word2):\n",
    "  memo = {}\n",
    "\n",
    "  def dp(i, j):\n",
    "      # If one of the strings is empty, the minimum operations is the length of the other string\n",
    "      if i == 0:\n",
    "          return j\n",
    "      if j == 0:\n",
    "          return i\n",
    "\n",
    "      # Check if the result is already computed\n",
    "      if (i, j) in memo:\n",
    "          return memo[(i, j)]\n",
    "\n",
    "      # If the current characters match, no operation is needed\n",
    "      if word1[i - 1] == word2[j - 1]:\n",
    "          result = dp(i - 1, j - 1)\n",
    "      else:\n",
    "          # Otherwise, consider three possible operations: insert, delete, or replace\n",
    "          result = 1 + min(dp(i - 1, j), dp(i, j - 1), dp(i - 1, j - 1))\n",
    "\n",
    "      # Memoize the result\n",
    "      memo[(i, j)] = result\n",
    "      return result\n",
    "\n",
    "  # Start the recursive calls with the lengths of the two words\n",
    "  return dp(len(word1), len(word2))\n",
    "\n",
    "# Example usage:\n",
    "word1 = \"pwskills\"\n",
    "word2 = \"skills\"\n",
    "result = min_distance(word1, word2)\n",
    "print(f\"Minimum number of operations: {result}\")"
   ]
  },
  {
   "cell_type": "code",
   "execution_count": null,
   "id": "329d1ecc-ecf0-4a37-81a2-565d4e446292",
   "metadata": {},
   "outputs": [],
   "source": []
  }
 ],
 "metadata": {
  "kernelspec": {
   "display_name": "Python 3 (ipykernel)",
   "language": "python",
   "name": "python3"
  },
  "language_info": {
   "codemirror_mode": {
    "name": "ipython",
    "version": 3
   },
   "file_extension": ".py",
   "mimetype": "text/x-python",
   "name": "python",
   "nbconvert_exporter": "python",
   "pygments_lexer": "ipython3",
   "version": "3.10.8"
  }
 },
 "nbformat": 4,
 "nbformat_minor": 5
}
